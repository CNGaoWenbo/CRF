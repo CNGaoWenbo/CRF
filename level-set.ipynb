{
 "cells": [
  {
   "cell_type": "code",
   "execution_count": 7,
   "metadata": {},
   "outputs": [],
   "source": [
    "import matplotlib.pyplot as plt\n",
    "import numpy as np\n",
    "import cv2"
   ]
  },
  {
   "cell_type": "code",
   "execution_count": 23,
   "metadata": {},
   "outputs": [],
   "source": [
    "PATH = \"E:\\\\Repo Scripts\\\\Level Set Codes\\\\Image\\\\1.jpg\"\n",
    "img = cv2.imread(PATH,0)\n",
    "# plt.imshow(img,cmap='gray')"
   ]
  },
  {
   "cell_type": "code",
   "execution_count": 8,
   "metadata": {},
   "outputs": [],
   "source": [
    "def Heaviside(phi,epsilon=1):\n",
    "    H = 0.5*(1+ (2/np.pi)*np.arctan(phi/epsilon))\n",
    "    return H\n",
    "def Dirac(phi,epsilon=1):\n",
    "    Delta_h=(epsilon/np.pi)/(epsilon^2+ phi^2)\n",
    "    return Delta_h\n",
    "def NeumannBoundCond(g):\n",
    "    #Make a function satisfy Neumann boundary condition\n",
    "    [nrow,ncol] = np.size(g)\n",
    "    g[1, nrow][1, ncol] = g[3, nrow-2][3, ncol-2]\n",
    "    # g[1, nrow],2:end-1) = g([3 nrow-2],2:end-1)\n",
    "    # g(2:end-1,[1 ncol]) = g(2:end-1,[3 ncol-2])"
   ]
  },
  {
   "cell_type": "code",
   "execution_count": 10,
   "metadata": {},
   "outputs": [],
   "source": [
    "epsilon = 1\n",
    "lambda1 = 1 #inside\n",
    "lambda2 = 1 #outside\n",
    "mu = 1  #length\n",
    "nu = 0  #area\n",
    "epoch = 10"
   ]
  },
  {
   "cell_type": "code",
   "execution_count": null,
   "metadata": {},
   "outputs": [],
   "source": [
    "def evolveLSF(phi):\n",
    "    for i in range(epoch):\n",
    "        phi = NeumannBoundCond(phi)\n",
    "        delta = Dirac(phi)\n"
   ]
  },
  {
   "cell_type": "code",
   "execution_count": 17,
   "metadata": {},
   "outputs": [
    {
     "data": {
      "text/plain": [
       "(128, 160)"
      ]
     },
     "execution_count": 17,
     "metadata": {},
     "output_type": "execute_result"
    }
   ],
   "source": [
    "img.shape"
   ]
  },
  {
   "cell_type": "code",
   "execution_count": 40,
   "metadata": {},
   "outputs": [],
   "source": [
    "phi = np.ones((img.shape[0],img.shape[1]))\n",
    "phi[0:10,] = 0"
   ]
  },
  {
   "cell_type": "code",
   "execution_count": 42,
   "metadata": {},
   "outputs": [
    {
     "data": {
      "text/plain": [
       "array([[1., 1., 1., ..., 1., 1., 1.],\n",
       "       [1., 1., 1., ..., 1., 1., 1.],\n",
       "       [1., 1., 1., ..., 1., 1., 1.],\n",
       "       ...,\n",
       "       [1., 1., 1., ..., 1., 1., 1.],\n",
       "       [1., 1., 1., ..., 1., 1., 1.],\n",
       "       [1., 1., 1., ..., 1., 1., 1.]])"
      ]
     },
     "execution_count": 42,
     "metadata": {},
     "output_type": "execute_result"
    }
   ],
   "source": [
    "phi"
   ]
  }
 ],
 "metadata": {
  "kernelspec": {
   "display_name": "env_cv",
   "language": "python",
   "name": "python3"
  },
  "language_info": {
   "codemirror_mode": {
    "name": "ipython",
    "version": 3
   },
   "file_extension": ".py",
   "mimetype": "text/x-python",
   "name": "python",
   "nbconvert_exporter": "python",
   "pygments_lexer": "ipython3",
   "version": "3.7.16"
  },
  "orig_nbformat": 4
 },
 "nbformat": 4,
 "nbformat_minor": 2
}
